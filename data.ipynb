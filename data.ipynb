{
 "cells": [
  {
   "cell_type": "code",
   "execution_count": null,
   "metadata": {},
   "outputs": [],
   "source": []
  },
  {
   "cell_type": "code",
   "execution_count": 1,
   "metadata": {},
   "outputs": [],
   "source": [
    "# !pip install datasets torchaudio"
   ]
  },
  {
   "cell_type": "code",
   "execution_count": 28,
   "metadata": {},
   "outputs": [],
   "source": [
    "# create metadata.from_csv\n",
    "import pandas as pd\n",
    "\n",
    "clean_metadata = pd.DataFrame(columns=['file_name', 'text'])\n",
    "metadata = pd.read_csv('./data/a/index.tsv', sep='\\t', header=None)\n",
    "\n",
    "for i in range(len(metadata)):\n",
    "    file_name = f\"{metadata.iloc[i, 0]}.wav\"\n",
    "    transcription = metadata.iloc[i, 1]\n",
    "\n",
    "    # add row to clean_metadata (do not use append)\n",
    "    clean_metadata.loc[i] = [file_name, transcription]\n",
    "\n",
    "clean_metadata.to_csv('./data/a/metadata.csv', index=False)"
   ]
  },
  {
   "cell_type": "code",
   "execution_count": 29,
   "metadata": {},
   "outputs": [
    {
     "name": "stderr",
     "output_type": "stream",
     "text": [
      "Downloading data: 100%|██████████| 9895/9895 [00:00<00:00, 115789.11files/s]\n",
      "Downloading data: 100%|██████████| 9895/9895 [00:00<00:00, 97586.68files/s]\n",
      "Generating train split: 9894 examples [00:00, 36771.24 examples/s]\n"
     ]
    }
   ],
   "source": [
    "from datasets import load_dataset\n",
    "\n",
    "dataset = load_dataset(\"audiofolder\", data_dir=\"./data/a\")"
   ]
  },
  {
   "cell_type": "code",
   "execution_count": 30,
   "metadata": {},
   "outputs": [
    {
     "data": {
      "text/plain": [
       "DatasetDict({\n",
       "    train: Dataset({\n",
       "        features: ['audio', 'text'],\n",
       "        num_rows: 9894\n",
       "    })\n",
       "})"
      ]
     },
     "execution_count": 30,
     "metadata": {},
     "output_type": "execute_result"
    }
   ],
   "source": [
    "dataset"
   ]
  },
  {
   "cell_type": "code",
   "execution_count": 31,
   "metadata": {},
   "outputs": [],
   "source": [
    "data = dataset[\"train\"].train_test_split(test_size=0.1)\n",
    "dataset[\"train\"] = data[\"train\"]\n",
    "dataset[\"test\"] = data[\"test\"]"
   ]
  },
  {
   "cell_type": "code",
   "execution_count": 32,
   "metadata": {},
   "outputs": [
    {
     "data": {
      "text/plain": [
       "{'audio': {'path': '/Users/sigurdurhaukur/Documents/icelandic-tts/data/a/s27-009220.wav',\n",
       "  'array': array([ 0.00000000e+00,  0.00000000e+00,  0.00000000e+00, ...,\n",
       "         -3.05175781e-05,  0.00000000e+00,  0.00000000e+00]),\n",
       "  'sampling_rate': 22050},\n",
       " 'text': 'Verð á maís og sojabaunum hækkaði í Bandaríkjunum í dag og hefur aldrei verið hærra.'}"
      ]
     },
     "execution_count": 32,
     "metadata": {},
     "output_type": "execute_result"
    }
   ],
   "source": [
    "dataset['train'][0]"
   ]
  },
  {
   "cell_type": "code",
   "execution_count": 35,
   "metadata": {},
   "outputs": [
    {
     "name": "stderr",
     "output_type": "stream",
     "text": [
      "Map: 100%|██████████| 2226/2226 [00:01<00:00, 2217.28 examples/s]s]\n",
      "Creating parquet from Arrow format: 100%|██████████| 23/23 [00:00<00:00, 93.52ba/s]\n",
      "Map: 100%|██████████| 2226/2226 [00:00<00:00, 2498.90 examples/s]15.45s/it]\n",
      "Creating parquet from Arrow format: 100%|██████████| 23/23 [00:00<00:00, 115.47ba/s]\n",
      "Map: 100%|██████████| 2226/2226 [00:00<00:00, 2516.51 examples/s]14.66s/it]\n",
      "Creating parquet from Arrow format: 100%|██████████| 23/23 [00:00<00:00, 114.87ba/s]\n",
      "Map: 100%|██████████| 2226/2226 [00:00<00:00, 2440.92 examples/s]17.36s/it]\n",
      "Creating parquet from Arrow format: 100%|██████████| 23/23 [00:00<00:00, 104.63ba/s]\n",
      "Uploading the dataset shards: 100%|██████████| 4/4 [01:05<00:00, 16.26s/it]\n",
      "Map: 100%|██████████| 990/990 [00:00<00:00, 2205.33 examples/s]t/s]\n",
      "Creating parquet from Arrow format: 100%|██████████| 10/10 [00:00<00:00, 100.51ba/s]\n",
      "Uploading the dataset shards: 100%|██████████| 1/1 [00:06<00:00,  6.71s/it]\n"
     ]
    },
    {
     "data": {
      "text/plain": [
       "CommitInfo(commit_url='https://huggingface.co/datasets/Sigurdur/talromur-rosa/commit/64327ad1c57f84b076409ac19c4ffaf67b557750', commit_message='Upload dataset', commit_description='', oid='64327ad1c57f84b076409ac19c4ffaf67b557750', pr_url=None, repo_url=RepoUrl('https://huggingface.co/datasets/Sigurdur/talromur-rosa', endpoint='https://huggingface.co', repo_type='dataset', repo_id='Sigurdur/talromur-rosa'), pr_revision=None, pr_num=None)"
      ]
     },
     "execution_count": 35,
     "metadata": {},
     "output_type": "execute_result"
    }
   ],
   "source": [
    "dataset.push_to_hub(\"Sigurdur/talromur-rosa\")"
   ]
  }
 ],
 "metadata": {
  "kernelspec": {
   "display_name": "isl-news-rec",
   "language": "python",
   "name": "isl-news-rec"
  },
  "language_info": {
   "codemirror_mode": {
    "name": "ipython",
    "version": 3
   },
   "file_extension": ".py",
   "mimetype": "text/x-python",
   "name": "python",
   "nbconvert_exporter": "python",
   "pygments_lexer": "ipython3",
   "version": "3.12.8"
  }
 },
 "nbformat": 4,
 "nbformat_minor": 2
}
